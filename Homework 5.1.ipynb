{
 "cells": [
  {
   "cell_type": "markdown",
   "metadata": {},
   "source": [
    "# Math 5305 Homework 5.1    Servet Oksuz"
   ]
  },
  {
   "cell_type": "markdown",
   "metadata": {},
   "source": [
    "2a. In class we simulated the binomial distribution with n=10 and p = 0.6.  Simulate  2000 instances of a binomial random variable with n=30 and p=0.1, and plot the histogram. "
   ]
  },
  {
   "cell_type": "code",
   "execution_count": 2,
   "metadata": {},
   "outputs": [],
   "source": [
    "# Firstly, we will import the libraries we will use:\n",
    "import numpy as np\n",
    "import pandas as pd\n",
    "import matplotlib.pyplot as plt"
   ]
  },
  {
   "cell_type": "code",
   "execution_count": 3,
   "metadata": {},
   "outputs": [],
   "source": [
    "# We will define a function Bernoulli Trials. n will represent the number of trials, and p represents the probability of success.\n",
    "def Bernoulli_trials(n,p):\n",
    "    # We initialize the number of success as 0 \n",
    "    n_success = 0\n",
    "    # We will make a for loop:\n",
    "    for i in range(n):\n",
    "        random_number = np.random.random()\n",
    "        if random_number < p:\n",
    "            n_success += 1\n",
    "    return n_success"
   ]
  },
  {
   "cell_type": "code",
   "execution_count": 4,
   "metadata": {},
   "outputs": [
    {
     "name": "stderr",
     "output_type": "stream",
     "text": [
      "C:\\Users\\Servet\\AppData\\Local\\Continuum\\anaconda\\lib\\site-packages\\ipykernel_launcher.py:5: MatplotlibDeprecationWarning: \n",
      "The 'normed' kwarg was deprecated in Matplotlib 2.1 and will be removed in 3.1. Use 'density' instead.\n",
      "  \"\"\"\n"
     ]
    },
    {
     "data": {
      "image/png": "[encoded data removed]",
      "text/plain": [
       "<Figure size 432x288 with 1 Axes>"
      ]
     },
     "metadata": {
      "needs_background": "light"
     },
     "output_type": "display_data"
    }
   ],
   "source": [
    "# According to the question, n=30 and p =0.1. Now, we will perform the Bernoulli trials 2000 times\\\n",
    "success_array = np.empty(2000)\n",
    "for i in range(2000):\n",
    "    success_array[i] = Bernoulli_trials(30,0.1)\n",
    "plt.hist(success_array, normed=True)\n",
    "plt.xlabel('number of success')\n",
    "plt.ylabel('number of instances')\n",
    "plt.show()"
   ]
  },
  {
   "cell_type": "markdown",
   "metadata": {},
   "source": [
    "b. Simulate 2000 instances of a negative binomial random variable with 𝑘 = 3 and 𝑝 = 1 3. Plot the histogram. "
   ]
  },
  {
   "cell_type": "code",
   "execution_count": 5,
   "metadata": {},
   "outputs": [],
   "source": [
    "def negative_binomial(k,p):\n",
    "    n_success = 0\n",
    "    n_trials = 0\n",
    "    while n_success < k:\n",
    "        n_trials +=1\n",
    "        random_number = np.random.random()\n",
    "        if random_number < p:\n",
    "            n_success += 1 \n",
    "    return n_trials"
   ]
  },
  {
   "cell_type": "code",
   "execution_count": 6,
   "metadata": {},
   "outputs": [
    {
     "data": {
      "text/plain": [
       "function"
      ]
     },
     "execution_count": 6,
     "metadata": {},
     "output_type": "execute_result"
    }
   ],
   "source": [
    "type(negative_binomial)"
   ]
  },
  {
   "cell_type": "code",
   "execution_count": 7,
   "metadata": {},
   "outputs": [
    {
     "data": {
      "text/plain": [
       "9"
      ]
     },
     "execution_count": 7,
     "metadata": {},
     "output_type": "execute_result"
    }
   ],
   "source": [
    "negative_binomial(3,0.3)"
   ]
  },
  {
   "cell_type": "code",
   "execution_count": 90,
   "metadata": {},
   "outputs": [
    {
     "name": "stderr",
     "output_type": "stream",
     "text": [
      "C:\\Users\\Servet\\AppData\\Local\\Continuum\\anaconda\\lib\\site-packages\\ipykernel_launcher.py:6: MatplotlibDeprecationWarning: \n",
      "The 'normed' kwarg was deprecated in Matplotlib 2.1 and will be removed in 3.1. Use 'density' instead.\n",
      "  \n"
     ]
    },
    {
     "data": {
      "image/png": "[encoded data removed]",
      "text/plain": [
       "<Figure size 432x288 with 1 Axes>"
      ]
     },
     "metadata": {
      "needs_background": "light"
     },
     "output_type": "display_data"
    }
   ],
   "source": [
    "# According to the question, n=30 and p =0.1. Now, we will perform the Bernoulli trials 2000 times\\\n",
    "success_array = np.empty(2000)\n",
    "for i in range(2000):\n",
    "    success_array[i] = negative_binomial(3,0.33333333)\n",
    "plt.title('Geometric Distribution')\n",
    "plt.hist(success_array, normed = True, bins=30)\n",
    "plt.xlabel('number of trials')\n",
    "plt.ylabel('number of instances')\n",
    "plt.show()"
   ]
  },
  {
   "cell_type": "markdown",
   "metadata": {},
   "source": [
    "c. Simulate 2000 instances of a hypergeometric distribution with 𝑁 = 10,𝑘 = 6,𝑛 = 5. Plot the histogram. "
   ]
  },
  {
   "cell_type": "code",
   "execution_count": 9,
   "metadata": {},
   "outputs": [],
   "source": [
    "# We will define Hypergeometric distribution with 3 variables: N,k,n\n",
    "def hypergeometric_dis(N,k,n):\n",
    "    success_list = np.random.randint(1,1000, k)\n",
    "    fail_list = np.random.randint(-1000,-1,N-k)\n",
    "    total_list = np.concatenate((success_list , fail_list), axis = 0)\n",
    "    random_choice = np.random.choice(total_list, n , replace=False)\n",
    "    n_of_success = np.sum(random_choice >= 0)\n",
    "    return n_of_success"
   ]
  },
  {
   "cell_type": "code",
   "execution_count": 10,
   "metadata": {},
   "outputs": [
    {
     "name": "stdout",
     "output_type": "stream",
     "text": [
      "4\n"
     ]
    }
   ],
   "source": [
    "print(hypergeometric_dis(10,6,5))"
   ]
  },
  {
   "cell_type": "code",
   "execution_count": 83,
   "metadata": {},
   "outputs": [
    {
     "name": "stderr",
     "output_type": "stream",
     "text": [
      "C:\\Users\\Servet\\AppData\\Local\\Continuum\\anaconda\\lib\\site-packages\\ipykernel_launcher.py:4: MatplotlibDeprecationWarning: \n",
      "The 'normed' kwarg was deprecated in Matplotlib 2.1 and will be removed in 3.1. Use 'density' instead.\n",
      "  after removing the cwd from sys.path.\n"
     ]
    },
    {
     "data": {
      "image/png": "[encoded data removed]",
      "text/plain": [
       "<Figure size 432x288 with 1 Axes>"
      ]
     },
     "metadata": {
      "needs_background": "light"
     },
     "output_type": "display_data"
    }
   ],
   "source": [
    "success_array = np.empty(2000)\n",
    "for i in range(2000):\n",
    "    success_array[i] = hypergeometric_dis(10, 6, 5)\n",
    "plt.hist(success_array, normed = True, bins=5)\n",
    "plt.title('Hypergeometric Distribution')\n",
    "plt.xlabel('values')\n",
    "plt.ylabel('probabilities')\n",
    "plt.show()"
   ]
  },
  {
   "cell_type": "markdown",
   "metadata": {},
   "source": [
    "d. Simulate 2000 instances of the Benford distribution for a single digit (as described on page 196 of the text).  Plot the histogram. "
   ]
  },
  {
   "cell_type": "code",
   "execution_count": 58,
   "metadata": {},
   "outputs": [],
   "source": [
    "# Firstly, we will define leading_digit\n",
    "def leading_digit(n):\n",
    "    while n >= 10:\n",
    "        n = n/10\n",
    "    return int(n)"
   ]
  },
  {
   "cell_type": "code",
   "execution_count": 77,
   "metadata": {},
   "outputs": [],
   "source": [
    "# We will define an n, random integer that will specify the range\n",
    "n = np.random.randint(1000000)\n",
    "\n",
    "# We will define Benford(k) function that chooses k random elements from a given random range\n",
    "def Benford(k):\n",
    "    results = np.empty(k)\n",
    "    for i in range(k):\n",
    "        results[i] = leading_digit(np.random.randint(n))\n",
    "    return results    \n",
    "        "
   ]
  },
  {
   "cell_type": "code",
   "execution_count": 78,
   "metadata": {
    "scrolled": true
   },
   "outputs": [
    {
     "data": {
      "text/plain": [
       "array([1., 4., 2., 2.])"
      ]
     },
     "execution_count": 78,
     "metadata": {},
     "output_type": "execute_result"
    }
   ],
   "source": [
    "# We will check whether this function works\n",
    "Benford(4)"
   ]
  },
  {
   "cell_type": "markdown",
   "metadata": {},
   "source": [
    "That looks OK"
   ]
  },
  {
   "cell_type": "code",
   "execution_count": 84,
   "metadata": {},
   "outputs": [
    {
     "name": "stderr",
     "output_type": "stream",
     "text": [
      "C:\\Users\\Servet\\AppData\\Local\\Continuum\\anaconda\\lib\\site-packages\\ipykernel_launcher.py:5: MatplotlibDeprecationWarning: \n",
      "The 'normed' kwarg was deprecated in Matplotlib 2.1 and will be removed in 3.1. Use 'density' instead.\n",
      "  \"\"\"\n"
     ]
    },
    {
     "data": {
      "image/png": "[encoded data removed]",
      "text/plain": [
       "<Figure size 432x288 with 1 Axes>"
      ]
     },
     "metadata": {
      "needs_background": "light"
     },
     "output_type": "display_data"
    }
   ],
   "source": [
    "success_array = np.empty(2000)\n",
    "for i in range(2000):\n",
    "    success_array = Benford(2000)\n",
    "plt.title('Benford Distribution')\n",
    "plt.hist(success_array, normed = True, bins=5)\n",
    "plt.xlabel('leading digits')\n",
    "plt.ylabel('Probabilities')\n",
    "plt.show()"
   ]
  },
  {
   "cell_type": "code",
   "execution_count": null,
   "metadata": {},
   "outputs": [],
   "source": []
  }
 ],
 "metadata": {
  "kernelspec": {
   "display_name": "Python 3",
   "language": "python",
   "name": "python3"
  },
  "language_info": {
   "codemirror_mode": {
    "name": "ipython",
    "version": 3
   },
   "file_extension": ".py",
   "mimetype": "text/x-python",
   "name": "python",
   "nbconvert_exporter": "python",
   "pygments_lexer": "ipython3",
   "version": "3.7.4"
  }
 },
 "nbformat": 4,
 "nbformat_minor": 2
}
